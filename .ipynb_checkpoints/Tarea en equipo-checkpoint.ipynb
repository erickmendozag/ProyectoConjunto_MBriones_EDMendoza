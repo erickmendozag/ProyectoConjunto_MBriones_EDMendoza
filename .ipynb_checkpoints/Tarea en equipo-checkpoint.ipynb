{
 "cells": [
  {
   "cell_type": "code",
   "execution_count": 1,
   "metadata": {},
   "outputs": [],
   "source": [
    "from IPython.display import Image"
   ]
  },
  {
   "cell_type": "code",
   "execution_count": 2,
   "metadata": {},
   "outputs": [
    {
     "ename": "FileNotFoundError",
     "evalue": "[Errno 2] No such file or directory: 'logo_iteso.jpg'",
     "output_type": "error",
     "traceback": [
      "\u001b[0;31m---------------------------------------------------------------------------\u001b[0m",
      "\u001b[0;31mFileNotFoundError\u001b[0m                         Traceback (most recent call last)",
      "\u001b[0;32m<ipython-input-2-dfec0da89cdd>\u001b[0m in \u001b[0;36m<module>\u001b[0;34m\u001b[0m\n\u001b[0;32m----> 1\u001b[0;31m \u001b[0mImage\u001b[0m\u001b[0;34m(\u001b[0m\u001b[0mfilename\u001b[0m\u001b[0;34m=\u001b[0m\u001b[0;34m'logo_iteso.jpg'\u001b[0m\u001b[0;34m)\u001b[0m\u001b[0;34m\u001b[0m\u001b[0;34m\u001b[0m\u001b[0m\n\u001b[0m",
      "\u001b[0;32m~/opt/anaconda3/lib/python3.7/site-packages/IPython/core/display.py\u001b[0m in \u001b[0;36m__init__\u001b[0;34m(self, data, url, filename, format, embed, width, height, retina, unconfined, metadata)\u001b[0m\n\u001b[1;32m   1195\u001b[0m         \u001b[0mself\u001b[0m\u001b[0;34m.\u001b[0m\u001b[0munconfined\u001b[0m \u001b[0;34m=\u001b[0m \u001b[0munconfined\u001b[0m\u001b[0;34m\u001b[0m\u001b[0;34m\u001b[0m\u001b[0m\n\u001b[1;32m   1196\u001b[0m         super(Image, self).__init__(data=data, url=url, filename=filename, \n\u001b[0;32m-> 1197\u001b[0;31m                 metadata=metadata)\n\u001b[0m\u001b[1;32m   1198\u001b[0m \u001b[0;34m\u001b[0m\u001b[0m\n\u001b[1;32m   1199\u001b[0m         \u001b[0;32mif\u001b[0m \u001b[0mself\u001b[0m\u001b[0;34m.\u001b[0m\u001b[0mwidth\u001b[0m \u001b[0;32mis\u001b[0m \u001b[0;32mNone\u001b[0m \u001b[0;32mand\u001b[0m \u001b[0mself\u001b[0m\u001b[0;34m.\u001b[0m\u001b[0mmetadata\u001b[0m\u001b[0;34m.\u001b[0m\u001b[0mget\u001b[0m\u001b[0;34m(\u001b[0m\u001b[0;34m'width'\u001b[0m\u001b[0;34m,\u001b[0m \u001b[0;34m{\u001b[0m\u001b[0;34m}\u001b[0m\u001b[0;34m)\u001b[0m\u001b[0;34m:\u001b[0m\u001b[0;34m\u001b[0m\u001b[0;34m\u001b[0m\u001b[0m\n",
      "\u001b[0;32m~/opt/anaconda3/lib/python3.7/site-packages/IPython/core/display.py\u001b[0m in \u001b[0;36m__init__\u001b[0;34m(self, data, url, filename, metadata)\u001b[0m\n\u001b[1;32m    618\u001b[0m             \u001b[0mself\u001b[0m\u001b[0;34m.\u001b[0m\u001b[0mmetadata\u001b[0m \u001b[0;34m=\u001b[0m \u001b[0;34m{\u001b[0m\u001b[0;34m}\u001b[0m\u001b[0;34m\u001b[0m\u001b[0;34m\u001b[0m\u001b[0m\n\u001b[1;32m    619\u001b[0m \u001b[0;34m\u001b[0m\u001b[0m\n\u001b[0;32m--> 620\u001b[0;31m         \u001b[0mself\u001b[0m\u001b[0;34m.\u001b[0m\u001b[0mreload\u001b[0m\u001b[0;34m(\u001b[0m\u001b[0;34m)\u001b[0m\u001b[0;34m\u001b[0m\u001b[0;34m\u001b[0m\u001b[0m\n\u001b[0m\u001b[1;32m    621\u001b[0m         \u001b[0mself\u001b[0m\u001b[0;34m.\u001b[0m\u001b[0m_check_data\u001b[0m\u001b[0;34m(\u001b[0m\u001b[0;34m)\u001b[0m\u001b[0;34m\u001b[0m\u001b[0;34m\u001b[0m\u001b[0m\n\u001b[1;32m    622\u001b[0m \u001b[0;34m\u001b[0m\u001b[0m\n",
      "\u001b[0;32m~/opt/anaconda3/lib/python3.7/site-packages/IPython/core/display.py\u001b[0m in \u001b[0;36mreload\u001b[0;34m(self)\u001b[0m\n\u001b[1;32m   1226\u001b[0m         \u001b[0;34m\"\"\"Reload the raw data from file or URL.\"\"\"\u001b[0m\u001b[0;34m\u001b[0m\u001b[0;34m\u001b[0m\u001b[0m\n\u001b[1;32m   1227\u001b[0m         \u001b[0;32mif\u001b[0m \u001b[0mself\u001b[0m\u001b[0;34m.\u001b[0m\u001b[0membed\u001b[0m\u001b[0;34m:\u001b[0m\u001b[0;34m\u001b[0m\u001b[0;34m\u001b[0m\u001b[0m\n\u001b[0;32m-> 1228\u001b[0;31m             \u001b[0msuper\u001b[0m\u001b[0;34m(\u001b[0m\u001b[0mImage\u001b[0m\u001b[0;34m,\u001b[0m\u001b[0mself\u001b[0m\u001b[0;34m)\u001b[0m\u001b[0;34m.\u001b[0m\u001b[0mreload\u001b[0m\u001b[0;34m(\u001b[0m\u001b[0;34m)\u001b[0m\u001b[0;34m\u001b[0m\u001b[0;34m\u001b[0m\u001b[0m\n\u001b[0m\u001b[1;32m   1229\u001b[0m             \u001b[0;32mif\u001b[0m \u001b[0mself\u001b[0m\u001b[0;34m.\u001b[0m\u001b[0mretina\u001b[0m\u001b[0;34m:\u001b[0m\u001b[0;34m\u001b[0m\u001b[0;34m\u001b[0m\u001b[0m\n\u001b[1;32m   1230\u001b[0m                 \u001b[0mself\u001b[0m\u001b[0;34m.\u001b[0m\u001b[0m_retina_shape\u001b[0m\u001b[0;34m(\u001b[0m\u001b[0;34m)\u001b[0m\u001b[0;34m\u001b[0m\u001b[0;34m\u001b[0m\u001b[0m\n",
      "\u001b[0;32m~/opt/anaconda3/lib/python3.7/site-packages/IPython/core/display.py\u001b[0m in \u001b[0;36mreload\u001b[0;34m(self)\u001b[0m\n\u001b[1;32m    643\u001b[0m         \u001b[0;34m\"\"\"Reload the raw data from file or URL.\"\"\"\u001b[0m\u001b[0;34m\u001b[0m\u001b[0;34m\u001b[0m\u001b[0m\n\u001b[1;32m    644\u001b[0m         \u001b[0;32mif\u001b[0m \u001b[0mself\u001b[0m\u001b[0;34m.\u001b[0m\u001b[0mfilename\u001b[0m \u001b[0;32mis\u001b[0m \u001b[0;32mnot\u001b[0m \u001b[0;32mNone\u001b[0m\u001b[0;34m:\u001b[0m\u001b[0;34m\u001b[0m\u001b[0;34m\u001b[0m\u001b[0m\n\u001b[0;32m--> 645\u001b[0;31m             \u001b[0;32mwith\u001b[0m \u001b[0mopen\u001b[0m\u001b[0;34m(\u001b[0m\u001b[0mself\u001b[0m\u001b[0;34m.\u001b[0m\u001b[0mfilename\u001b[0m\u001b[0;34m,\u001b[0m \u001b[0mself\u001b[0m\u001b[0;34m.\u001b[0m\u001b[0m_read_flags\u001b[0m\u001b[0;34m)\u001b[0m \u001b[0;32mas\u001b[0m \u001b[0mf\u001b[0m\u001b[0;34m:\u001b[0m\u001b[0;34m\u001b[0m\u001b[0;34m\u001b[0m\u001b[0m\n\u001b[0m\u001b[1;32m    646\u001b[0m                 \u001b[0mself\u001b[0m\u001b[0;34m.\u001b[0m\u001b[0mdata\u001b[0m \u001b[0;34m=\u001b[0m \u001b[0mf\u001b[0m\u001b[0;34m.\u001b[0m\u001b[0mread\u001b[0m\u001b[0;34m(\u001b[0m\u001b[0;34m)\u001b[0m\u001b[0;34m\u001b[0m\u001b[0;34m\u001b[0m\u001b[0m\n\u001b[1;32m    647\u001b[0m         \u001b[0;32melif\u001b[0m \u001b[0mself\u001b[0m\u001b[0;34m.\u001b[0m\u001b[0murl\u001b[0m \u001b[0;32mis\u001b[0m \u001b[0;32mnot\u001b[0m \u001b[0;32mNone\u001b[0m\u001b[0;34m:\u001b[0m\u001b[0;34m\u001b[0m\u001b[0;34m\u001b[0m\u001b[0m\n",
      "\u001b[0;31mFileNotFoundError\u001b[0m: [Errno 2] No such file or directory: 'logo_iteso.jpg'"
     ]
    }
   ],
   "source": [
    "Image(filename='logo_iteso.jpg')"
   ]
  },
  {
   "cell_type": "markdown",
   "metadata": {},
   "source": [
    "## Mi expectativa de estudiante 1\n",
    "es aprender a sintetizar mi forma de programar y poder simular de forma eficiente\n"
   ]
  },
  {
   "cell_type": "markdown",
   "metadata": {},
   "source": [
    "# Expectativas Est-2"
   ]
  },
  {
   "cell_type": "markdown",
   "metadata": {},
   "source": [
    "* Dominar el uso de GitKraken y sus herramientas.\n",
    "* Poder utilizar GitHub y GitKraken para facilitar los proyectos de otras materias.\n",
    "* Poder desarrollar una lógica para programar más eficiente.\n",
    "* Aprender comandos más sencillos.\n",
    "* Reducir mi tiempo a la hora de programar ya que en la actualidad cuesta mucho trabajo."
   ]
  },
  {
   "cell_type": "markdown",
   "metadata": {},
   "source": [
    "# Resumen Est-1"
   ]
  },
  {
   "cell_type": "markdown",
   "metadata": {},
   "source": [
    "## **Python is becoming the world’s most popular coding language**\n",
    "El cuel menciona que el autor del programa Python no esperaba que el codigo que el creo llegara a donde esta llegando, que despues de casi tres decadas el codigo ha recibido muchas mas visitas que kim kardasian.\n",
    "\n",
    "Menciona que dos de las ventajas de este es que es mas simple y flexible por lo cual, hace mucho mas facil poder leerlo, aprenderlo y compartirlo. Asi mismo dice que ayuda al aprendizaje automatico ya que procesa grandes cantidades de datos para seleccionar patrones que de otro modo serian imperceptibles.\n",
    "\n",
    "Dice que con tantos usuarios python podria convertirse en la lengua franca de la codificacion, dejando obsoletos a los demas.\n",
    "\n",
    "Sin embargo apesar de ser muy utilizada dice que python no podra remplazar Java, C y C++ ya que estos le dan mas control al usuario mas control sobre lo que esta sucediendo en el procesador de su computadora."
   ]
  },
  {
   "cell_type": "markdown",
   "metadata": {},
   "source": [
    "# Resumen Est-2"
   ]
  },
  {
   "cell_type": "markdown",
   "metadata": {},
   "source": [
    "*Simplicidad y flexibilidad son las dos grandes ventajas sobre el lenguaje en Python; la creación que ha dado mucho de que hablar en la internet, despúes de un trabajo fenomenal por parte de Guido Van Rossum es el más utilizado para programar.*\n",
    "\n",
    "*En la actualidad existen miles de personas decodificando apoyando este gran proyecto, sin embargo las grandes empresas de programación como JAVA, entre otras, se han visto por debajo de la practicidad del uso de Python, ahora con esto se podrá tener una infinidad de algoritmos y podrá crecer a nivel exponencial la programación en el mundo.*"
   ]
  },
  {
   "cell_type": "markdown",
   "metadata": {},
   "source": [
    ">\"CIERTAMENTE no me propuse crear un lenguaje destinado al consumo masivo\", dice Guido van Rossum, un informático holandés que ideó Python, un lenguaje de programación, en 1989. "
   ]
  },
  {
   "cell_type": "markdown",
   "metadata": {},
   "source": [
    "[Referencia](https://www.economist.com/graphic-detail/2018/07/26/python-is-becoming-the-worlds-most-popular-coding-language)"
   ]
  },
  {
   "cell_type": "markdown",
   "metadata": {},
   "source": [
    "## Transcribir img-Est-1"
   ]
  },
  {
   "cell_type": "markdown",
   "metadata": {},
   "source": [
    " 1. La fórmula del rectángulo se obtiene al interpolar a $f(x)$ por medio del polinomio constante $P0(x) = f({a+b\\over 2})$.\n",
    " $$\\int f(x)dx= (b-a)f({a+b\\over 2})=R(f)$$\n",
    " \n",
    " \n",
    " 2. La fórmula del trapecio se obtiene al interpolar a $f$ por medio de un polinomio lineal $P1(x) = \\alpha x + \\beta$ que satisfaga $f(a)=P1(a)$.y $f(b)=P1(b)$ . Determinar el polinomio lineal es equivalente a resolver un sistema de ecuaciones lineales para $\\alpha$ y $\\beta$ cuya solución es:\n",
    " $$\\alpha={f(b)-f(a)\\over b-a} \\beta={f(b)a-f(a)b\\over b-a}$$\n",
    " \n",
    " Al integrar $P1(x)$en el intervalo $[a,b]$ se obtiene la regla del trapeciocon $h=b-a$\n",
    " $$\\int f(x)dx=\\int P1(x)dx= {h\\over 2}(f(a)+f(b))=T(f)$$\n",
    " \n",
    " El error esta dado por\n",
    " $$\\int f(x)dx-T(f)=-{h^3\\over12}(f^n(n)). a<n<b $$\n",
    " \n",
    " 3. Por último al integrar $P1(x)$  el polinomio cuadrático que interpola a $f$ en $x=a, x={a+b\\over2}$, y $x=b$ se obtiene la regla de Simpson con $h={b-\\over 2}\n",
    " $$\\int f(x)dx=\\int P2(x)dx={h\\over 3}(f(a)-4f(a+h)+f(b))=S(f)$$\n",
    " \n",
    " El error que se comete al usar Simpson es:\n",
    " $$\\int f(x)dx-S(f)={h^5\\over 90}(f^4(n)).  a<n<b.$$"
   ]
  },
  {
   "cell_type": "markdown",
   "metadata": {},
   "source": [
    "## Transcribir imagen Est-1"
   ]
  },
  {
   "cell_type": "markdown",
   "metadata": {},
   "source": [
    "1. La fórmula del rectángulo se obtiene al interpolar a $f(x)$ por medio del polinomio constante $P0(x) = f({a+b\\over 2})$.\n",
    " $$\\int f(x)dx= (b-a)f({a+b\\over 2})=R(f)$$\n",
    " \n",
    " \n",
    " 2. La fórmula del trapecio se obtiene al interpolar a $f$ por medio de un polinomio lineal $P1(x) = \\alpha x + \\beta$ que satisfaga $f(a)=P1(a)$.y $f(b)=P1(b)$ . Determinar el polinomio lineal es equivalente a resolver un sistema de ecuaciones lineales para $\\alpha$ y $\\beta$ cuya solución es:\n",
    " $$\\alpha={f(b)-f(a)\\over b-a} \\beta={f(b)a-f(a)b\\over b-a}$$\n",
    " \n",
    " Al integrar $P1(x)$en el intervalo $[a,b]$ se obtiene la regla del trapeciocon $h=b-a$\n",
    " $$\\int f(x)dx=\\int P1(x)dx= {h\\over 2}(f(a)+f(b))=T(f)$$\n",
    " \n",
    " El error esta dado por\n",
    " $$\\int f(x)dx-T(f)=-{h^3\\over12}(f^n(n)). a<n<b $$\n",
    " \n",
    " 3. Por último al integrar $P1(x)$  el polinomio cuadrático que interpola a $f$ en $x=a, x={a+b\\over2}$, y $x=b$ se obtiene la regla de Simpson con $h={b-\\over 2}\n",
    " $$\\int f(x)dx=\\int P2(x)dx={h\\over 3}(f(a)-4f(a+h)+f(b))=S(f)$$\n",
    " \n",
    " El error que se comete al usar Simpson es:\n",
    " $$\\int f(x)dx-S(f)={h^5\\over 90}(f^4(n)).  a<n<b.$$"
   ]
  },
  {
   "cell_type": "markdown",
   "metadata": {},
   "source": [
    "# Serie de fibonacci"
   ]
  },
  {
   "cell_type": "code",
   "execution_count": 3,
   "metadata": {},
   "outputs": [
    {
     "name": "stdout",
     "output_type": "stream",
     "text": [
      "0 1 1 2 3 5 8 13 21 34 55 89 144 233 377 610 987 \n"
     ]
    }
   ],
   "source": [
    "def serief(n):\n",
    "    a, b = 0,1\n",
    "    while a < n:\n",
    "        print(a, end=' ')\n",
    "        a, b = b, a+b\n",
    "    print()\n",
    "serief(1000)"
   ]
  },
  {
   "cell_type": "markdown",
   "metadata": {},
   "source": [
    "## Números primos"
   ]
  },
  {
   "cell_type": "code",
   "execution_count": 5,
   "metadata": {},
   "outputs": [
    {
     "name": "stdout",
     "output_type": "stream",
     "text": [
      "¿Qué número quieres saber si es primo? 90\n",
      "divisor: 2\n",
      "divisor: 3\n",
      "divisor: 5\n",
      "divisor: 6\n",
      "divisor: 9\n",
      "divisor: 10\n",
      "divisor: 15\n",
      "divisor: 18\n",
      "divisor: 30\n",
      "divisor: 45\n",
      "El número no es primo\n"
     ]
    }
   ],
   "source": [
    "    numero= int(input(\"¿Qué número quieres saber si es primo? \"))\n",
    "    valor= range(2,numero)\n",
    "    contador = 0\n",
    "    for n in valor:\n",
    "      if numero % n == 0:\n",
    "        contador +=1\n",
    "        print(\"divisor:\", n)\n",
    "    if contador > 0 :\n",
    "      print(\"El número no es primo\" )\n",
    "    else:\n",
    "      print(\"El nÚmero es primo\")"
   ]
  },
  {
   "cell_type": "code",
   "execution_count": 6,
   "metadata": {},
   "outputs": [
    {
     "name": "stdout",
     "output_type": "stream",
     "text": [
      "2\n",
      "3\n",
      "5\n",
      "7\n",
      "11\n",
      "13\n",
      "17\n",
      "19\n",
      "23\n",
      "29\n",
      "31\n",
      "37\n",
      "41\n",
      "43\n",
      "47\n",
      "53\n",
      "59\n",
      "61\n",
      "67\n",
      "71\n",
      "73\n",
      "79\n",
      "83\n",
      "89\n",
      "97\n"
     ]
    }
   ],
   "source": [
    "import math  \n",
    "def esPrimo(num):  \n",
    " for i in range(3,int(math.sqrt(num))+1,2):  \n",
    "  if num%i==0:  \n",
    "   return False  \n",
    " return True  \n",
    "def listaPrimos(limite):  \n",
    " print(2)  \n",
    " for j in range(3,limite+1,2):  \n",
    "  if esPrimo(j):  \n",
    "   print(j)  \n",
    "listaPrimos(100)  "
   ]
  },
  {
   "cell_type": "code",
   "execution_count": null,
   "metadata": {},
   "outputs": [],
   "source": []
  }
 ],
 "metadata": {
  "kernelspec": {
   "display_name": "Python 3",
   "language": "python",
   "name": "python3"
  },
  "language_info": {
   "codemirror_mode": {
    "name": "ipython",
    "version": 3
   },
   "file_extension": ".py",
   "mimetype": "text/x-python",
   "name": "python",
   "nbconvert_exporter": "python",
   "pygments_lexer": "ipython3",
   "version": "3.7.4"
  }
 },
 "nbformat": 4,
 "nbformat_minor": 2
}
